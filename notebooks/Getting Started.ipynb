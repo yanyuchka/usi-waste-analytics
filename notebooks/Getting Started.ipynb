{
 "metadata": {
  "name": "",
  "signature": "sha256:ca4c9861de43311916ebd8133dc556e85034ba113c973f88ea84ea98f0a9b1a6"
 },
 "nbformat": 3,
 "nbformat_minor": 0,
 "worksheets": [
  {
   "cells": [
    {
     "cell_type": "markdown",
     "metadata": {},
     "source": [
      "# Logistics\n",
      "\n",
      "Meeting Times: TBD\n",
      "\n",
      "## Tools\n",
      "\n",
      "### [Github Repo](https://github.com/nejohnson2/usi-waste-analytics)\n"
     ]
    },
    {
     "cell_type": "markdown",
     "metadata": {},
     "source": [
      "#Project Goals\n",
      "\n",
      "Main Project goal:\n",
      "\n",
      "Individual Goals:\n",
      "\n",
      "\n",
      "---\n",
      "**Possibilities:**\n",
      "- City-level prediction\n",
      "- Census Block prediction\n",
      "- How to visualize?\n",
      "\n",
      "\n",
      "**Initial Steps:**\n",
      "- what data we have\n",
      "- need to normalize data\n",
      "- look at correlations between census block, census tract data\n",
      "- develop \"urban morphology\"(Oribe-Garcia, 2015) from PLUTO data"
     ]
    },
    {
     "cell_type": "markdown",
     "metadata": {},
     "source": [
      "##Weekly Updates\n",
      "\n",
      "Week 1: Getting Started\n",
      "- tools\n",
      "- project background\n",
      "- collaborative working\n",
      "\n",
      "Week 2:\n",
      "\n",
      "---\n",
      "\n",
      "Week 8: Midterm Presentation\n",
      "\n",
      "---\n",
      "\n",
      "Week 15: Practice Presentation\n",
      "\n",
      "Week 16: Presentation"
     ]
    },
    {
     "cell_type": "markdown",
     "metadata": {},
     "source": [
      "#Data\n",
      "\n",
      "- **DSNY Tonnage Data** - available after data request.  Will be made available through 'share'\n",
      "- **DSNY Sections** - a shapefile defining the subsection of DSNY\n",
      "- **Census Block Data** - obtained through census.gov\n",
      "- **PLUTO** - available [here](http://www.nyc.gov/html/dcp/html/bytes/applbyte.shtml): data for each New York City Lot"
     ]
    },
    {
     "cell_type": "markdown",
     "metadata": {},
     "source": [
      "# Literature \n",
      "\n",
      "- **Rimaityte** *Application and evaluation of forecasting methods for municipal solid waste generation in an eastern-European city*\n",
      "- **Xu L.** *A hybrid procedure for MSW generation forecasting at multiple time scales in Xiamen City, China*\n",
      "- **Oribe-Garcia I.** *Identification of influencing municipal characteristics regarding household waste generation and their forecasting ability in Biscay*\n",
      "- **Denafas G.** *Seasonal variation of municipal solid waste generation and composition in four East European cities*\n",
      "- **Clarke M, Maantay J.** *Optimizing recycling in all of New York City's neighborhoods: Using GIS to develop the REAP index for improved recycling education, awareness, and participation*"
     ]
    }
   ],
   "metadata": {}
  }
 ]
}