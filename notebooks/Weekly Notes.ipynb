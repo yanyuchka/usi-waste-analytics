{
 "metadata": {
  "name": "",
  "signature": "sha256:ee3dcb00fe91a7e2fa9abe288b8ad7e9c39b6983615c04a12d90844e5cc5ed21"
 },
 "nbformat": 3,
 "nbformat_minor": 0,
 "worksheets": [
  {
   "cells": [
    {
     "cell_type": "markdown",
     "metadata": {},
     "source": [
      "# Notes\n",
      "\n",
      "---"
     ]
    },
    {
     "cell_type": "markdown",
     "metadata": {},
     "source": [
      "## Week 1\n",
      "\n",
      "---\n",
      "\n",
      "### Discussed\n",
      "Discussed data access, waste challenges in society, will be using Python for tools, discussed importance of presentation.   \n",
      "\n",
      "###To Dos\n",
      "\n",
      "Nick:\n",
      "- Find out about making data available\n",
      "- Using data offline for visualization (ArchGIS)\n",
      "- Email github link and new articles\n",
      "- talk to Sina about weather data\n",
      "- setup meeting with DSNY\n",
      "- prepare data presentation\n",
      "\n",
      "Class:\n",
      "- Discuss project goals\n",
      "- disucss strategies for the goals\n",
      "- discuss splittig up the work"
     ]
    },
    {
     "cell_type": "markdown",
     "metadata": {},
     "source": [
      "## Week 2\n",
      "\n",
      "---\n",
      "\n",
      "Agenda: \n",
      "- Talk about project goals, strategies, next steps\n",
      "- Go over data access - rights and how to access\n",
      "- Chat about working with Github\n",
      "- discuss paper\n",
      "- Review data and begin asking questions\n",
      "    - look at spatial data\n",
      "    - look at tonnage data\n",
      "    \n",
      "## Discussion\n",
      "\n",
      "---\n",
      "\n",
      "normalization of population\n",
      "\n",
      "paper on tourism\n",
      "    - estimate tourism, literature on estimating tourismm\n",
      "\n",
      "Class To Do:\n",
      "- collected data - ACS census data,\n",
      "- define metrics for toursim\n",
      "\n",
      "\n",
      "Nick To Do:\n",
      "- Sina, weather data\n",
      "- tourism\n",
      "- get access to shp file data\n",
      "- paper\n",
      "- meta data\n",
      "- share work on lot calulation by pop\n"
     ]
    },
    {
     "cell_type": "markdown",
     "metadata": {},
     "source": [
      "## Week 3\n",
      "\n",
      "Discussion: Accessed data via ssh and putty.  Reviewed process thus far about using population as proxy.\n",
      "\n",
      "**Agenda**\n",
      "\n",
      "- Go over people as proxy\n",
      "\n",
      "\n",
      "\n",
      "**Nick To Do**\n",
      "- Meeting with DSNY?\n",
      "- Send spatial data files"
     ]
    }
   ],
   "metadata": {}
  }
 ]
}