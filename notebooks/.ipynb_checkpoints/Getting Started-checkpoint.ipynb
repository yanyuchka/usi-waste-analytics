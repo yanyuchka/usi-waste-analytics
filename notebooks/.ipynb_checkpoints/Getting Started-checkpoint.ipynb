{
 "metadata": {
  "name": "",
  "signature": "sha256:f554dd71473cb8f85b483cb82d5fb32262dfd82fdc03698868ba7d6e0aeaeda6"
 },
 "nbformat": 3,
 "nbformat_minor": 0,
 "worksheets": [
  {
   "cells": [
    {
     "cell_type": "markdown",
     "metadata": {},
     "source": [
      "# Logistics\n",
      "\n",
      "Meeting Times:\n",
      "\n",
      "## Tools\n",
      "\n",
      "### [Github Repo]()\n"
     ]
    },
    {
     "cell_type": "markdown",
     "metadata": {},
     "source": [
      "#Project Goals\n",
      "\n"
     ]
    },
    {
     "cell_type": "markdown",
     "metadata": {},
     "source": [
      "#Timeline\n",
      "\n",
      "Week 1: Getting Started\n",
      "\n",
      "Week 2:\n",
      "\n",
      "---\n",
      "\n",
      "Week 15: Practice Presentation\n",
      "\n",
      "Week 16: Presentation"
     ]
    },
    {
     "cell_type": "markdown",
     "metadata": {},
     "source": [
      "#Data\n",
      "\n",
      "- DSNY Tonnage Data - available after data request.  Will be made available through 'share'\n",
      "- DSNY Sections - a shapefile defining the subsection of DSNY\n",
      "- Census Block Data - obtained through census.gov"
     ]
    },
    {
     "cell_type": "markdown",
     "metadata": {},
     "source": [
      "# Literature \n",
      "\n",
      "- **Rimaityte** *Application and evaluation of forecasting methods for municipal solid waste generation in an eastern-European city*\n",
      "- **Xu L.** *A hybrid procedure for MSW generation forecasting at multiple time scales in Xiamen City, China*\n",
      "- **Oribe-Garcia I.** *Identification of influencing municipal characteristics regarding household waste generation and their forecasting ability in Biscay*\n",
      "- **Denafas G.** *Seasonal variation of municipal solid waste generation and composition in four East European cities*\n",
      "- **Clarke M, Maantay J.** *Optimizing recycling in all of New York City's neighborhoods: Using GIS to develop the REAP index for improved recycling education, awareness, and participation*"
     ]
    }
   ],
   "metadata": {}
  }
 ]
}