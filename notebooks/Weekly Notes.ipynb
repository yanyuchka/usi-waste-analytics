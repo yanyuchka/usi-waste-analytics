{
 "metadata": {
  "name": "",
  "signature": "sha256:f8ec5dccfcdc2a6f5b4fed35d4a3c0b2beeb290cd51a42c11bf2afd9f82256df"
 },
 "nbformat": 3,
 "nbformat_minor": 0,
 "worksheets": [
  {
   "cells": [
    {
     "cell_type": "markdown",
     "metadata": {},
     "source": [
      "# Week 1\n",
      "\n"
     ]
    }
   ],
   "metadata": {}
  }
 ]
}