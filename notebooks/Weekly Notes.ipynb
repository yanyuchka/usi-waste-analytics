{
 "metadata": {
  "name": "",
  "signature": "sha256:9ea1d6e068eebb6f3e63d06eb61a20a7ed08d1fe7a411e8de39ad443230da73d"
 },
 "nbformat": 3,
 "nbformat_minor": 0,
 "worksheets": [
  {
   "cells": [
    {
     "cell_type": "markdown",
     "metadata": {},
     "source": [
      "# Notes\n",
      "\n",
      "---"
     ]
    },
    {
     "cell_type": "markdown",
     "metadata": {},
     "source": [
      "## Week 1\n",
      "\n",
      "---\n",
      "\n",
      "### Discussed\n",
      "Discussed data access, waste challenges in society, will be using Python for tools, discussed importance of presentation.   \n",
      "\n",
      "###To Dos\n",
      "\n",
      "Nick:\n",
      "- Find out about making data available\n",
      "- Using data offline for visualization (ArchGIS)\n",
      "- Email github link and new articles\n",
      "- talk to Sina about weather data\n",
      "- setup meeting with DSNY\n",
      "- prepare data presentation\n",
      "\n",
      "Class:\n",
      "- Discuss project goals\n",
      "- disucss strategies for the goals\n",
      "- discuss splittig up the work"
     ]
    }
   ],
   "metadata": {}
  }
 ]
}