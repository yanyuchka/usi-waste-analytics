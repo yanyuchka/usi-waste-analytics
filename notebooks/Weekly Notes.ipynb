{
 "metadata": {
  "name": "",
  "signature": "sha256:263f2efd559ae38023b8d40ad9217161b06e3ec0c03b2d5aba04d1ed4196209b"
 },
 "nbformat": 3,
 "nbformat_minor": 0,
 "worksheets": [
  {
   "cells": [
    {
     "cell_type": "markdown",
     "metadata": {},
     "source": [
      "# Notes\n",
      "\n",
      "---"
     ]
    },
    {
     "cell_type": "markdown",
     "metadata": {},
     "source": [
      "## Week 1\n",
      "\n",
      "---\n",
      "\n",
      "### Discussed\n",
      "Discussed data access, waste challenges in society, will be using Python for tools, discussed importance of presentation.   \n",
      "\n",
      "###To Dos\n",
      "\n",
      "Nick:\n",
      "- Find out about making data available\n",
      "- Using data offline for visualization (ArchGIS)\n",
      "- Email github link and new articles\n",
      "- talk to Sina about weather data\n",
      "- setup meeting with DSNY\n",
      "- prepare data presentation\n",
      "\n",
      "Class:\n",
      "- Discuss project goals\n",
      "- disucss strategies for the goals\n",
      "- discuss splittig up the work"
     ]
    },
    {
     "cell_type": "markdown",
     "metadata": {},
     "source": [
      "## Week 2\n",
      "\n",
      "---\n",
      "\n",
      "Agenda: \n",
      "- Talk about project goals, strategies, next steps\n",
      "- Go over data access - rights and how to access\n",
      "- Chat about working with Github\n",
      "- discuss paper\n",
      "- Review data and begin asking questions\n",
      "    - look at spatial data\n",
      "    - look at tonnage data\n",
      "    \n",
      "## Discussion\n",
      "\n",
      "---\n",
      "\n",
      "normalization of population\n",
      "\n",
      "paper on tourism\n",
      "    - estimate tourism, literature on estimating tourismm\n",
      "\n",
      "Class To Do:\n",
      "- collected data - ACS census data,\n",
      "- define metrics for toursim\n",
      "\n",
      "\n",
      "Nick To Do:\n",
      "- Sina, weather data\n",
      "- tourism\n",
      "- get access to shp file data\n",
      "- paper\n",
      "- meta data\n",
      "- share work on lot calulation by pop\n"
     ]
    }
   ],
   "metadata": {}
  }
 ]
}