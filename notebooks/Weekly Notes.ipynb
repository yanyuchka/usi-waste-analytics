{
 "metadata": {
  "name": "",
  "signature": "sha256:1ef7347b1ffab2b0d86d32b8c6e1e3f8838bae5159476b3982237813415af219"
 },
 "nbformat": 3,
 "nbformat_minor": 0,
 "worksheets": [
  {
   "cells": [
    {
     "cell_type": "markdown",
     "metadata": {},
     "source": [
      "# Week 1\n",
      "\n",
      "**To Dos**\n",
      "\n",
      "Nick:\n",
      "- Find out about making data available\n",
      "- Using data offline for visualization (ArchGIS)\n",
      "- Email github link and new articles\n",
      "\n",
      "Class:\n",
      "- Discuss "
     ]
    }
   ],
   "metadata": {}
  }
 ]
}